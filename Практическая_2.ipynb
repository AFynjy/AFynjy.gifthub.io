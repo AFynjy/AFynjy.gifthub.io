{
  "nbformat": 4,
  "nbformat_minor": 0,
  "metadata": {
    "colab": {
      "name": "Практическая 2.ipynb",
      "provenance": [],
      "authorship_tag": "ABX9TyONmDBYupxgLc7oPEHnEdPZ",
      "include_colab_link": true
    },
    "kernelspec": {
      "name": "python3",
      "display_name": "Python 3"
    },
    "language_info": {
      "name": "python"
    }
  },
  "cells": [
    {
      "cell_type": "markdown",
      "metadata": {
        "id": "view-in-github",
        "colab_type": "text"
      },
      "source": [
        "<a href=\"https://colab.research.google.com/github/AFynjy/AFynjy.gifthub.io/blob/master/%D0%9F%D1%80%D0%B0%D0%BA%D1%82%D0%B8%D1%87%D0%B5%D1%81%D0%BA%D0%B0%D1%8F_2.ipynb\" target=\"_parent\"><img src=\"https://colab.research.google.com/assets/colab-badge.svg\" alt=\"Open In Colab\"/></a>"
      ]
    },
    {
      "cell_type": "code",
      "metadata": {
        "id": "4ajsj8IWxAcw"
      },
      "source": [
        "import numpy as np"
      ],
      "execution_count": 4,
      "outputs": []
    },
    {
      "cell_type": "markdown",
      "metadata": {
        "id": "w764borCyfR0"
      },
      "source": [
        "1.Создание и вывод массива "
      ]
    },
    {
      "cell_type": "markdown",
      "metadata": {
        "id": "cGQc5LY3ystL"
      },
      "source": [
        "функция linspace создаёт массив, первые 2 числа это начало и конец диапазона, в котором находятся значения массива. 3 число - кол-во элементов массива."
      ]
    },
    {
      "cell_type": "code",
      "metadata": {
        "colab": {
          "base_uri": "https://localhost:8080/"
        },
        "id": "OJAOlOhNyeaL",
        "outputId": "8317c63b-e973-4bca-cfeb-a563958ab417"
      },
      "source": [
        "a=np.linspace(10,20,21)\n",
        "print(a)"
      ],
      "execution_count": 18,
      "outputs": [
        {
          "output_type": "stream",
          "name": "stdout",
          "text": [
            "[10.  10.5 11.  11.5 12.  12.5 13.  13.5 14.  14.5 15.  15.5 16.  16.5\n",
            " 17.  17.5 18.  18.5 19.  19.5 20. ]\n"
          ]
        }
      ]
    },
    {
      "cell_type": "markdown",
      "metadata": {
        "id": "BepjvoU_cana"
      },
      "source": [
        "2.Создаём массив, вычисляем поэлементно косинусы и синусы. Возводим в квадрат и складываем. С помощью функции np.all проверяем, что в ответе только единицы."
      ]
    },
    {
      "cell_type": "code",
      "metadata": {
        "colab": {
          "base_uri": "https://localhost:8080/"
        },
        "id": "7ywfVzdBzKMJ",
        "outputId": "37f5f620-6729-4467-e8d1-283f2e0c52c0"
      },
      "source": [
        "b=np.linspace(-2*np.pi,2*np.pi,5)\n",
        "print(b)"
      ],
      "execution_count": 68,
      "outputs": [
        {
          "output_type": "stream",
          "name": "stdout",
          "text": [
            "[-6.28318531 -3.14159265  0.          3.14159265  6.28318531]\n"
          ]
        }
      ]
    },
    {
      "cell_type": "code",
      "metadata": {
        "colab": {
          "base_uri": "https://localhost:8080/"
        },
        "id": "3zqwWFCD3f2e",
        "outputId": "2b194952-f17a-48cb-aeac-51da1aaa2922"
      },
      "source": [
        "c=np.sin(b).astype(int)\n",
        "d=np.cos(b)\n",
        "e=np.square(c)\n",
        "f=np.square(d)\n",
        "sumkv=e+f\n",
        "print(c)\n",
        "print(d)\n",
        "print(e)\n",
        "print(f)\n",
        "print(sumkv)\n",
        "print(np.all(sumkv))\n",
        "\n"
      ],
      "execution_count": 71,
      "outputs": [
        {
          "output_type": "stream",
          "name": "stdout",
          "text": [
            "[0 0 0 0 0]\n",
            "[ 1. -1.  1. -1.  1.]\n",
            "[0 0 0 0 0]\n",
            "[1. 1. 1. 1. 1.]\n",
            "[1. 1. 1. 1. 1.]\n",
            "True\n"
          ]
        }
      ]
    },
    {
      "cell_type": "markdown",
      "metadata": {
        "id": "jtTuTgXWi7Xt"
      },
      "source": [
        "3. Создаём 2 матрицы находим сумму поэлементно, а также с помощью функции dot перемнажаем их."
      ]
    },
    {
      "cell_type": "code",
      "metadata": {
        "colab": {
          "base_uri": "https://localhost:8080/"
        },
        "id": "3impEiTuc7aJ",
        "outputId": "a3f8f0cf-26ea-48bb-bda3-53234c1b9f9b"
      },
      "source": [
        "k=np.array([[-3, 4], \n",
        "            [4, 3]])\n",
        "l=np.array([[2, 1], \n",
        "            [1, 2]])\n",
        "sumkl=k+l\n",
        "print(sumkl)\n",
        "\n",
        "L = k.dot(l)\n",
        "K = l.dot(k)\n",
        "\n",
        "print(L)\n",
        "print(K)\n"
      ],
      "execution_count": 77,
      "outputs": [
        {
          "output_type": "stream",
          "name": "stdout",
          "text": [
            "[[-1  5]\n",
            " [ 5  5]]\n",
            "[[-2  5]\n",
            " [11 10]]\n",
            "[[-2 11]\n",
            " [ 5 10]]\n"
          ]
        }
      ]
    },
    {
      "cell_type": "code",
      "metadata": {
        "colab": {
          "base_uri": "https://localhost:8080/"
        },
        "id": "EwR87hbVj_30",
        "outputId": "07340b12-410d-47d0-9bea-99851dfe2ace"
      },
      "source": [
        "y=np.array([1,2,3,4,5])\n",
        "anew=np.array([3,2,1,0,-1])\n",
        "RSS=np.square(y-anew)\n",
        "print(RSS)\n",
        "print('RSS = ', RSS.sum())"
      ],
      "execution_count": 102,
      "outputs": [
        {
          "output_type": "stream",
          "name": "stdout",
          "text": [
            "[ 4  0  4 16 36]\n",
            "RSS =  60\n"
          ]
        }
      ]
    },
    {
      "cell_type": "markdown",
      "metadata": {
        "id": "408xz1KB0aoz"
      },
      "source": [
        "4.Так как у нас матрицы размерами 1x5 и 1x3 нам необходимо транспонировать одну из матриц, чтобы мы смогли перемножить их. Выполним оба способа поочереди."
      ]
    },
    {
      "cell_type": "code",
      "metadata": {
        "colab": {
          "base_uri": "https://localhost:8080/"
        },
        "id": "rSTrbUe2sbMj",
        "outputId": "85dd8d07-e4cc-438d-d0ec-a5de923a96f9"
      },
      "source": [
        "matr=np.matrix('4 1 34 1 3')\n",
        "Matr=np.matrix('12 112 1')\n",
        "matrNew=matr.transpose()\n",
        "newMatrix=matrNew.dot(Matr)\n",
        "print(newMatrix)\n",
        "# DS=matr*Matr\n",
        "# print(DS)"
      ],
      "execution_count": 105,
      "outputs": [
        {
          "output_type": "stream",
          "name": "stdout",
          "text": [
            "[[  48  448    4]\n",
            " [  12  112    1]\n",
            " [ 408 3808   34]\n",
            " [  12  112    1]\n",
            " [  36  336    3]]\n"
          ]
        }
      ]
    },
    {
      "cell_type": "code",
      "metadata": {
        "colab": {
          "base_uri": "https://localhost:8080/"
        },
        "id": "nnV7TnePwF2p",
        "outputId": "59993bee-6221-4e11-c9df-7a853cdf5f2c"
      },
      "source": [
        "matrnew=Matr.transpose()\n",
        "newmatrix=matrnew.dot(matr)\n",
        "print(newmatrix)"
      ],
      "execution_count": 106,
      "outputs": [
        {
          "output_type": "stream",
          "name": "stdout",
          "text": [
            "[[  48   12  408   12   36]\n",
            " [ 448  112 3808  112  336]\n",
            " [   4    1   34    1    3]]\n"
          ]
        }
      ]
    },
    {
      "cell_type": "code",
      "metadata": {
        "id": "T8cQYzAt08Hr"
      },
      "source": [
        ""
      ],
      "execution_count": null,
      "outputs": []
    }
  ]
}