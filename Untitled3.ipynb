{
  "nbformat": 4,
  "nbformat_minor": 0,
  "metadata": {
    "colab": {
      "name": "Untitled3.ipynb",
      "provenance": [],
      "authorship_tag": "ABX9TyMkG1sRyJ80zQ81FeVjsgAc",
      "include_colab_link": true
    },
    "kernelspec": {
      "name": "python3",
      "display_name": "Python 3"
    },
    "language_info": {
      "name": "python"
    }
  },
  "cells": [
    {
      "cell_type": "markdown",
      "metadata": {
        "id": "view-in-github",
        "colab_type": "text"
      },
      "source": [
        "<a href=\"https://colab.research.google.com/github/AFynjy/AFynjy.gifthub.io/blob/master/Untitled3.ipynb\" target=\"_parent\"><img src=\"https://colab.research.google.com/assets/colab-badge.svg\" alt=\"Open In Colab\"/></a>"
      ]
    },
    {
      "cell_type": "code",
      "metadata": {
        "id": "uiFSRP6a3W_p"
      },
      "source": [
        "import pandas as pd\n",
        "import numpy as np\n",
        "import matplotlib.pyplot as plt"
      ],
      "execution_count": 1,
      "outputs": []
    },
    {
      "cell_type": "code",
      "metadata": {
        "colab": {
          "base_uri": "https://localhost:8080/",
          "height": 419
        },
        "id": "3_aW7IRCP3GH",
        "outputId": "da0603a0-13c9-4e0b-b198-970c658ef26a"
      },
      "source": [
        "dataset = pd.read_csv(\"/Tempreture .csv\")\n",
        "dataset.head(1393)"
      ],
      "execution_count": 37,
      "outputs": [
        {
          "output_type": "execute_result",
          "data": {
            "text/html": [
              "<div>\n",
              "<style scoped>\n",
              "    .dataframe tbody tr th:only-of-type {\n",
              "        vertical-align: middle;\n",
              "    }\n",
              "\n",
              "    .dataframe tbody tr th {\n",
              "        vertical-align: top;\n",
              "    }\n",
              "\n",
              "    .dataframe thead th {\n",
              "        text-align: right;\n",
              "    }\n",
              "</style>\n",
              "<table border=\"1\" class=\"dataframe\">\n",
              "  <thead>\n",
              "    <tr style=\"text-align: right;\">\n",
              "      <th></th>\n",
              "      <th>Temperature - (Celsius)</th>\n",
              "      <th>Year</th>\n",
              "    </tr>\n",
              "  </thead>\n",
              "  <tbody>\n",
              "    <tr>\n",
              "      <th>0</th>\n",
              "      <td>21.2741</td>\n",
              "      <td>1901</td>\n",
              "    </tr>\n",
              "    <tr>\n",
              "      <th>1</th>\n",
              "      <td>22.1011</td>\n",
              "      <td>1902</td>\n",
              "    </tr>\n",
              "    <tr>\n",
              "      <th>2</th>\n",
              "      <td>19.5796</td>\n",
              "      <td>1903</td>\n",
              "    </tr>\n",
              "    <tr>\n",
              "      <th>3</th>\n",
              "      <td>21.8710</td>\n",
              "      <td>1904</td>\n",
              "    </tr>\n",
              "    <tr>\n",
              "      <th>4</th>\n",
              "      <td>19.8944</td>\n",
              "      <td>1905</td>\n",
              "    </tr>\n",
              "    <tr>\n",
              "      <th>...</th>\n",
              "      <td>...</td>\n",
              "      <td>...</td>\n",
              "    </tr>\n",
              "    <tr>\n",
              "      <th>111</th>\n",
              "      <td>21.7783</td>\n",
              "      <td>2012</td>\n",
              "    </tr>\n",
              "    <tr>\n",
              "      <th>112</th>\n",
              "      <td>22.0156</td>\n",
              "      <td>2013</td>\n",
              "    </tr>\n",
              "    <tr>\n",
              "      <th>113</th>\n",
              "      <td>22.0136</td>\n",
              "      <td>2014</td>\n",
              "    </tr>\n",
              "    <tr>\n",
              "      <th>114</th>\n",
              "      <td>23.0622</td>\n",
              "      <td>2015</td>\n",
              "    </tr>\n",
              "    <tr>\n",
              "      <th>115</th>\n",
              "      <td>23.0920</td>\n",
              "      <td>2016</td>\n",
              "    </tr>\n",
              "  </tbody>\n",
              "</table>\n",
              "<p>116 rows × 2 columns</p>\n",
              "</div>"
            ],
            "text/plain": [
              "     Temperature - (Celsius)   Year\n",
              "0                    21.2741   1901\n",
              "1                    22.1011   1902\n",
              "2                    19.5796   1903\n",
              "3                    21.8710   1904\n",
              "4                    19.8944   1905\n",
              "..                       ...    ...\n",
              "111                  21.7783   2012\n",
              "112                  22.0156   2013\n",
              "113                  22.0136   2014\n",
              "114                  23.0622   2015\n",
              "115                  23.0920   2016\n",
              "\n",
              "[116 rows x 2 columns]"
            ]
          },
          "metadata": {},
          "execution_count": 37
        }
      ]
    },
    {
      "cell_type": "code",
      "metadata": {
        "colab": {
          "base_uri": "https://localhost:8080/"
        },
        "id": "qaum8E-bTGz-",
        "outputId": "b14982e1-d9f9-4e3e-a9b2-a4143b34d89a"
      },
      "source": [
        "X = dataset[\" Year\"].values.reshape(-1,1)\n",
        "y = dataset[\"Temperature - (Celsius)\"].values.reshape(-1,1)"
      ],
      "execution_count": 71,
      "outputs": [
        {
          "output_type": "stream",
          "name": "stdout",
          "text": [
            "[21.2741 22.1011 19.5796 21.871  19.8944 20.3203 20.6502 21.5965 20.9503\n",
            " 20.0475 20.689  21.7373 21.4796 21.1517 21.155  22.1382 19.8269 19.3156\n",
            " 20.8591 20.1605 23.2014 22.0116 21.6004 21.6474 23.2879 19.1603 20.8602\n",
            " 21.8333 22.6193 20.3948 22.7935 22.8721 19.9956 21.5973 18.777  20.7998\n",
            " 20.092  22.0969 19.1503 20.5647 23.2831 23.0039 20.5152 21.4394 20.1679\n",
            " 24.7555 22.785  22.4834 22.7572 19.4117 19.3428 22.7377 21.7689 21.7416\n",
            " 20.1084 21.6388 19.2207 23.4353 22.046  19.6976 20.2747 21.9979 21.2156\n",
            " 22.0596 18.726  20.2439 20.375  21.2904 21.6886 22.8451 23.3466 20.4903\n",
            " 22.5258 22.7606 21.0544 20.7216 22.1772 22.2052 22.8234 23.4625 22.6124\n",
            " 21.094  19.021  22.3283 21.6968 21.6092 21.8214 23.2295 20.2563 21.2646\n",
            " 20.5152 19.9273 21.6325 20.3414 20.0073 22.0081 19.9341 22.8289 23.2143\n",
            " 24.0088 22.5681 23.1135 22.7893 23.8518 21.5074 22.5519 24.3705 21.8502\n",
            " 21.516  24.6826 21.8318 21.7783 22.0156 22.0136 23.0622 23.092 ]\n"
          ]
        }
      ]
    },
    {
      "cell_type": "code",
      "metadata": {
        "colab": {
          "base_uri": "https://localhost:8080/"
        },
        "id": "ofWs6yGYTprh",
        "outputId": "ac985caf-cd61-421f-9176-af6b875e3c68"
      },
      "source": [
        "from sklearn.linear_model import LinearRegression\n",
        "lin_reg = LinearRegression()\n",
        "lin_reg.fit(X,y)"
      ],
      "execution_count": 72,
      "outputs": [
        {
          "output_type": "execute_result",
          "data": {
            "text/plain": [
              "LinearRegression(copy_X=True, fit_intercept=True, n_jobs=None, normalize=False)"
            ]
          },
          "metadata": {},
          "execution_count": 72
        }
      ]
    },
    {
      "cell_type": "code",
      "metadata": {
        "colab": {
          "base_uri": "https://localhost:8080/",
          "height": 295
        },
        "id": "Odh4w75ThfXI",
        "outputId": "021a9c16-b1c8-4a48-ab15-fc7248fde0fd"
      },
      "source": [
        "plt.scatter(X,y)\n",
        "plt.plot(X, lin_reg.predict(X), color = \"red\")\n",
        "plt.title(\"Средняя температура Узбекистана\")\n",
        "plt.xlabel('Год')\n",
        "plt.ylabel('Температура')\n",
        "plt.show()"
      ],
      "execution_count": 52,
      "outputs": [
        {
          "output_type": "display_data",
          "data": {
            "image/png": "[encoded data removed]",
            "text/plain": [
              "<Figure size 432x288 with 1 Axes>"
            ]
          },
          "metadata": {
            "needs_background": "light"
          }
        }
      ]
    },
    {
      "cell_type": "code",
      "metadata": {
        "id": "UwGIB6NQilj5"
      },
      "source": [
        "from sklearn.preprocessing import PolynomialFeatures\n",
        "\n",
        "poly_reg = PolynomialFeatures(degree = 5)\n",
        "\n",
        "lin_reg.fit(poly_reg.fit_transform(X),y)\n",
        "X_grid = np.arange(min(X),max(X),0.1)\n",
        "X_grid = X_grid.reshape(len(X_grid),1)\n"
      ],
      "execution_count": 63,
      "outputs": []
    },
    {
      "cell_type": "code",
      "metadata": {
        "colab": {
          "base_uri": "https://localhost:8080/",
          "height": 295
        },
        "id": "_YSdXrN_kT7x",
        "outputId": "f5dce22c-db50-4ab8-fda6-c891c01eefa6"
      },
      "source": [
        "plt.scatter(X,y)\n",
        "plt.plot(X_grid, lin_reg.predict(poly_reg.fit_transform(X_grid)),color='red')\n",
        "plt.title(\"Температура Узбекистана в апреле 1950-2016\")\n",
        "plt.xlabel('Год')\n",
        "plt.ylabel('Температура')\n",
        "plt.show()"
      ],
      "execution_count": 65,
      "outputs": [
        {
          "output_type": "display_data",
          "data": {
            "image/png": "[encoded data removed]",
            "text/plain": [
              "<Figure size 432x288 with 1 Axes>"
            ]
          },
          "metadata": {
            "needs_background": "light"
          }
        }
      ]
    },
    {
      "cell_type": "markdown",
      "metadata": {
        "id": "gfXT7EpzSnlD"
      },
      "source": [
        "# Новый раздел"
      ]
    }
  ]
}