{
  "nbformat": 4,
  "nbformat_minor": 0,
  "metadata": {
    "colab": {
      "provenance": [],
      "authorship_tag": "ABX9TyMtNP8MpWyI+zTsNo2MCRIz",
      "include_colab_link": true
    },
    "kernelspec": {
      "name": "python3",
      "display_name": "Python 3"
    },
    "language_info": {
      "name": "python"
    }
  },
  "cells": [
    {
      "cell_type": "markdown",
      "metadata": {
        "id": "view-in-github",
        "colab_type": "text"
      },
      "source": [
        "<a href=\"https://colab.research.google.com/github/AFynjy/AFynjy.gifthub.io/blob/master/%E2%84%961_%D0%9D%D0%B5%D0%B9%D1%80%D0%BE%D0%BD%D0%BD%D1%8B%D0%B5_%D1%81%D0%B5%D1%82%D0%B8.ipynb\" target=\"_parent\"><img src=\"https://colab.research.google.com/assets/colab-badge.svg\" alt=\"Open In Colab\"/></a>"
      ]
    },
    {
      "cell_type": "code",
      "execution_count": null,
      "metadata": {
        "id": "_Fjf8z3dsU76"
      },
      "outputs": [],
      "source": [
        "from random import randint"
      ]
    },
    {
      "cell_type": "markdown",
      "source": [
        "Конъюнкиця"
      ],
      "metadata": {
        "id": "XNORo7R41Hy8"
      }
    },
    {
      "cell_type": "code",
      "source": [
        "speed=0.3\n",
        "\n",
        "w = [randint(0,100)/100, randint(0,100)/100]"
      ],
      "metadata": {
        "id": "SSRaj6dxtU48"
      },
      "execution_count": null,
      "outputs": []
    },
    {
      "cell_type": "code",
      "source": [
        "x_train = [[1,1], [1,0], [0,1], [0,0]]\n",
        "y_train = [1,0,0,0]"
      ],
      "metadata": {
        "id": "dHvd_4PItVJV"
      },
      "execution_count": null,
      "outputs": []
    },
    {
      "cell_type": "code",
      "source": [
        "def predict(x_train, w):\n",
        "  summator = x_train[0] * w[0] + x_train[1] * w[1]\n",
        "  act = 1 if summator >= 1 else 0\n",
        "  return act"
      ],
      "metadata": {
        "id": "1bzLViMrvUWh"
      },
      "execution_count": null,
      "outputs": []
    },
    {
      "cell_type": "code",
      "source": [
        "def train(x_train, y_train, w):\n",
        "  for i in range(len(x_train)):\n",
        "    error = y_train[i] - predict(x_train[i], w)\n",
        "    if error != 0:\n",
        "      w[0] = w[0] + error * x_train[i][0] * speed\n",
        "      w[1] = w[1] + error * x_train[i][1] * speed\n",
        "      print(w)"
      ],
      "metadata": {
        "id": "Db4H_22ovaKV"
      },
      "execution_count": null,
      "outputs": []
    },
    {
      "cell_type": "code",
      "source": [
        "def epoch(count, func_train, x_train, y_train, w):\n",
        "  print(f\"Параметры весов:\\n\")\n",
        "  for i in range(count):\n",
        "    func_train(x_train, y_train, w)"
      ],
      "metadata": {
        "id": "lLM2f4VFvabB"
      },
      "execution_count": null,
      "outputs": []
    },
    {
      "cell_type": "code",
      "source": [
        "epoch(5, train, x_train, y_train, w)\n",
        "print('Конечные веса', w)"
      ],
      "metadata": {
        "colab": {
          "base_uri": "https://localhost:8080/"
        },
        "id": "Ip-aEbAJwVGO",
        "outputId": "daa34671-f8c9-4ef7-f971-d3b33f45de5f"
      },
      "execution_count": null,
      "outputs": [
        {
          "output_type": "stream",
          "name": "stdout",
          "text": [
            "Параметры весов:\n",
            "\n",
            "Конечные веса [0.78, 0.36]\n"
          ]
        }
      ]
    },
    {
      "cell_type": "code",
      "source": [
        "for i in range(len(x_train)):\n",
        "  print(predict([x_train[i][0],x_train[i][1]], w))"
      ],
      "metadata": {
        "colab": {
          "base_uri": "https://localhost:8080/"
        },
        "id": "KeSO9XOyz_8V",
        "outputId": "eaeb1ca2-aac2-4230-b6b0-5dc985431cac"
      },
      "execution_count": null,
      "outputs": [
        {
          "output_type": "stream",
          "name": "stdout",
          "text": [
            "1\n",
            "0\n",
            "0\n",
            "0\n"
          ]
        }
      ]
    },
    {
      "cell_type": "markdown",
      "source": [
        "Дизъюнкция"
      ],
      "metadata": {
        "id": "sB87vjfU3Wol"
      }
    },
    {
      "cell_type": "code",
      "source": [
        "w2 = [randint(0,100)/100, randint(0,100)/100]"
      ],
      "metadata": {
        "id": "kOTl_pmk3Z2U"
      },
      "execution_count": null,
      "outputs": []
    },
    {
      "cell_type": "code",
      "source": [
        "x_train2 = [[1,1], [1,0], [0,1], [0,0]]\n",
        "y_train2 = [1,1,1,0]"
      ],
      "metadata": {
        "id": "naPN7xaI3aY9"
      },
      "execution_count": null,
      "outputs": []
    },
    {
      "cell_type": "code",
      "source": [
        "epoch(5, train, x_train2, y_train2, w2)\n",
        "print('Конечные веса', w2)"
      ],
      "metadata": {
        "colab": {
          "base_uri": "https://localhost:8080/"
        },
        "id": "YKJEnuTc3gyW",
        "outputId": "74374c92-d5b2-475f-eea7-92f290d9794c"
      },
      "execution_count": null,
      "outputs": [
        {
          "output_type": "stream",
          "name": "stdout",
          "text": [
            "Параметры весов:\n",
            "\n",
            "[0.44999999999999996, 0.63]\n",
            "[0.75, 0.63]\n",
            "[0.75, 0.9299999999999999]\n",
            "[1.05, 0.9299999999999999]\n",
            "[1.05, 1.23]\n",
            "Конечные веса [1.05, 1.23]\n"
          ]
        }
      ]
    },
    {
      "cell_type": "code",
      "source": [
        "for i in range(len(x_train2)):\n",
        "  print(predict(x_train2[i], w2))"
      ],
      "metadata": {
        "colab": {
          "base_uri": "https://localhost:8080/"
        },
        "id": "EKkh_9Ev3wAV",
        "outputId": "506fd616-f535-4112-9334-753a948bc222"
      },
      "execution_count": null,
      "outputs": [
        {
          "output_type": "stream",
          "name": "stdout",
          "text": [
            "1\n",
            "1\n",
            "1\n",
            "0\n"
          ]
        }
      ]
    },
    {
      "cell_type": "markdown",
      "source": [
        "Конъюнкция отрицания x1 и x2"
      ],
      "metadata": {
        "id": "wsX07d6ZADuT"
      }
    },
    {
      "cell_type": "code",
      "source": [
        "w3 = [randint(0,100)/100, randint(0,100)/100]"
      ],
      "metadata": {
        "id": "MgcbYGKM6Je0"
      },
      "execution_count": null,
      "outputs": []
    },
    {
      "cell_type": "code",
      "source": [
        "x_train3 = [[1,1], [1,0], [0,1], [0,0]]\n",
        "y_train3 = [0,0,1,0]"
      ],
      "metadata": {
        "id": "_OcqKtKaAQLp"
      },
      "execution_count": null,
      "outputs": []
    },
    {
      "cell_type": "code",
      "source": [
        "epoch(5, train, x_train3, y_train3, w3)\n",
        "print('Конечные веса', w3)"
      ],
      "metadata": {
        "colab": {
          "base_uri": "https://localhost:8080/"
        },
        "id": "NDzHap4JAj-s",
        "outputId": "48954c60-4e7f-4eaf-f795-3a47351f0b66"
      },
      "execution_count": null,
      "outputs": [
        {
          "output_type": "stream",
          "name": "stdout",
          "text": [
            "Параметры весов:\n",
            "\n",
            "[0.47000000000000003, 0.030000000000000027]\n",
            "[0.47000000000000003, 0.33]\n",
            "[0.47000000000000003, 0.63]\n",
            "[0.17000000000000004, 0.33]\n",
            "[0.17000000000000004, 0.63]\n",
            "[0.17000000000000004, 0.9299999999999999]\n",
            "[-0.12999999999999995, 0.6299999999999999]\n",
            "[-0.12999999999999995, 0.9299999999999999]\n",
            "Конечные веса [-0.12999999999999995, 0.9299999999999999]\n"
          ]
        }
      ]
    },
    {
      "cell_type": "code",
      "source": [
        "for i in range(len(x_train3)):\n",
        "  print(predict(x_train3[i], w3))"
      ],
      "metadata": {
        "colab": {
          "base_uri": "https://localhost:8080/"
        },
        "id": "MOG3j6YUAzde",
        "outputId": "4ec19694-cba7-4894-d4e5-f35a07670fe4"
      },
      "execution_count": null,
      "outputs": [
        {
          "output_type": "stream",
          "name": "stdout",
          "text": [
            "0\n",
            "0\n",
            "0\n",
            "0\n"
          ]
        }
      ]
    },
    {
      "cell_type": "markdown",
      "source": [
        "Конъюнкция x1 и отрицания x2"
      ],
      "metadata": {
        "id": "3904x4zMA6-q"
      }
    },
    {
      "cell_type": "code",
      "source": [
        "w4 = [randint(0,100)/100, randint(0,100)/100]"
      ],
      "metadata": {
        "id": "UwsHyvEhA4YK"
      },
      "execution_count": null,
      "outputs": []
    },
    {
      "cell_type": "code",
      "source": [
        "x_train4 = [[1,1], [1,0], [0,1], [0,0]]\n",
        "y_train4 = [0,1,0,0]"
      ],
      "metadata": {
        "id": "gzmb7c_5BJth"
      },
      "execution_count": null,
      "outputs": []
    },
    {
      "cell_type": "code",
      "source": [
        "epoch(5, train, x_train, y_train4, w4)\n",
        "print('Конечные веса', w4)"
      ],
      "metadata": {
        "colab": {
          "base_uri": "https://localhost:8080/"
        },
        "id": "hAQL4CG-BU6f",
        "outputId": "f9762dda-71a0-4414-8029-2b5f2f8d909c"
      },
      "execution_count": null,
      "outputs": [
        {
          "output_type": "stream",
          "name": "stdout",
          "text": [
            "Параметры весов:\n",
            "\n",
            "[0.31, 0.22]\n",
            "[0.61, 0.22]\n",
            "[0.9099999999999999, 0.22]\n",
            "[0.6099999999999999, -0.07999999999999999]\n",
            "[0.9099999999999999, -0.07999999999999999]\n",
            "[1.21, -0.07999999999999999]\n",
            "Конечные веса [1.21, -0.07999999999999999]\n"
          ]
        }
      ]
    },
    {
      "cell_type": "code",
      "source": [
        "for i in range(len(x_train)):\n",
        "  print(predict(x_train[i], w4))"
      ],
      "metadata": {
        "colab": {
          "base_uri": "https://localhost:8080/"
        },
        "id": "3Tbl1sZ9BZxD",
        "outputId": "a2f17e9d-95bd-4182-ad31-a10d801ef6ff"
      },
      "execution_count": null,
      "outputs": [
        {
          "output_type": "stream",
          "name": "stdout",
          "text": [
            "1\n",
            "1\n",
            "0\n",
            "0\n"
          ]
        }
      ]
    },
    {
      "cell_type": "markdown",
      "source": [
        "XOR"
      ],
      "metadata": {
        "id": "SdmpSZQmV5fd"
      }
    },
    {
      "cell_type": "code",
      "source": [
        "def xor(x_train, w, w3, w4):\n",
        "  return predict([predict(x_train, w3), predict(x_train, w4)], w2)"
      ],
      "metadata": {
        "id": "53MOMQDbBpr-"
      },
      "execution_count": null,
      "outputs": []
    },
    {
      "cell_type": "code",
      "source": [
        "for i in range(len(x_train)):\n",
        "  print(xor(x_train[i], w2, w3, w4)) "
      ],
      "metadata": {
        "colab": {
          "base_uri": "https://localhost:8080/"
        },
        "id": "dS1ChpYQJhyN",
        "outputId": "089cf8a2-2359-45ec-f880-2d1cf71771c9"
      },
      "execution_count": null,
      "outputs": [
        {
          "output_type": "stream",
          "name": "stdout",
          "text": [
            "1\n",
            "1\n",
            "0\n",
            "0\n"
          ]
        }
      ]
    },
    {
      "cell_type": "markdown",
      "source": [
        "Для всех вышепреведённых логических операций получится обучить нейрон, кроме XOR, так как для этой операции необходимо 3 нейрона."
      ],
      "metadata": {
        "id": "atdDv5sbvUZL"
      }
    },
    {
      "cell_type": "markdown",
      "source": [
        "ЗАДАНИЕ 4/5"
      ],
      "metadata": {
        "id": "MgPpQwuZV-1L"
      }
    },
    {
      "cell_type": "code",
      "source": [
        "w5 = [randint(0,100)/100, randint(0,100)/100, randint(0,100)/100]\n",
        "w5"
      ],
      "metadata": {
        "id": "-TYFKmglJ6Ll",
        "colab": {
          "base_uri": "https://localhost:8080/"
        },
        "outputId": "5c01c557-0f3e-4509-a805-313a2906abd7"
      },
      "execution_count": null,
      "outputs": [
        {
          "output_type": "execute_result",
          "data": {
            "text/plain": [
              "[0.26, 0.37, 0.76]"
            ]
          },
          "metadata": {},
          "execution_count": 310
        }
      ]
    },
    {
      "cell_type": "code",
      "source": [
        "x_train5 = [[1,1], [1,-1], [-1,1], [-1,-1]]\n",
        "y_train5 = [1, -1, -1 ,-1]"
      ],
      "metadata": {
        "id": "WMGvhpgGWKt3"
      },
      "execution_count": null,
      "outputs": []
    },
    {
      "cell_type": "code",
      "source": [
        "def predict2(x_train):\n",
        "  summator = x_train[0] * w5[0] + x_train[1] * w5[1] + 1 * w5[2]\n",
        "  act = 1 if summator > 0 else -1\n",
        "  return act"
      ],
      "metadata": {
        "id": "sG-Dh8xZW4MS"
      },
      "execution_count": null,
      "outputs": []
    },
    {
      "cell_type": "code",
      "source": [
        "def train2(x_train, y_train, w):\n",
        "  for i in range(len(x_train)):\n",
        "    error = y_train[i] - predict2(x_train[i])\n",
        "    if error != 0:\n",
        "      w[0] = w[0] + error * x_train[i][0] * speed\n",
        "      w[1] = w[1] + error * x_train[i][1] * speed\n",
        "      w[2] = w[2] + error * 1 * speed\n",
        "      print(w)"
      ],
      "metadata": {
        "id": "U2FbtB6YXaT_"
      },
      "execution_count": null,
      "outputs": []
    },
    {
      "cell_type": "code",
      "source": [
        "epoch(5, train2, x_train5, y_train5, w5)\n",
        "print('Конечные веса', w5)"
      ],
      "metadata": {
        "colab": {
          "base_uri": "https://localhost:8080/"
        },
        "id": "R3OlWLC_Xqyb",
        "outputId": "e3435ba0-5c85-44bb-fead-0bd4dc5e5909"
      },
      "execution_count": null,
      "outputs": [
        {
          "output_type": "stream",
          "name": "stdout",
          "text": [
            "Параметры весов:\n",
            "\n",
            "[-0.33999999999999997, 0.97, 0.16000000000000003]\n",
            "[0.26, 0.37, -0.43999999999999995]\n",
            "Конечные веса [0.26, 0.37, -0.43999999999999995]\n"
          ]
        }
      ]
    },
    {
      "cell_type": "code",
      "source": [
        "for i in range(len(x_train5)):\n",
        "  print(predict2(x_train5[i]))"
      ],
      "metadata": {
        "colab": {
          "base_uri": "https://localhost:8080/"
        },
        "id": "jydm6q3IYB94",
        "outputId": "7f08d774-4d13-4c8a-b001-2d570d0c7541"
      },
      "execution_count": null,
      "outputs": [
        {
          "output_type": "stream",
          "name": "stdout",
          "text": [
            "1\n",
            "-1\n",
            "-1\n",
            "-1\n"
          ]
        }
      ]
    },
    {
      "cell_type": "markdown",
      "source": [
        "1) В 4 задании невозможно обучить нейрон с указанными параметрами дельта методом.\n",
        "2) Подобрать веса для данной без машинного обучения невохможно\n",
        "3) Если добавить один вход данных на нейрон, тогда становится возможным обучить нейрон с параметрами из задания 4"
      ],
      "metadata": {
        "id": "PbuLDc8_xWEK"
      }
    }
  ]
}